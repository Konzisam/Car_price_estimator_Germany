{
 "cells": [
  {
   "cell_type": "code",
   "execution_count": 1,
   "id": "c88e7910",
   "metadata": {},
   "outputs": [],
   "source": [
    "import pandas as pd\n",
    "import matplotlib.pyplot as plt\n",
    "import numpy as np\n",
    "import sklearn\n",
    "import seaborn as sns"
   ]
  },
  {
   "cell_type": "code",
   "execution_count": 2,
   "id": "e592fc8d",
   "metadata": {},
   "outputs": [],
   "source": [
    "df = pd.read_csv('germany-cars-zenrows.csv')"
   ]
  },
  {
   "cell_type": "code",
   "execution_count": 3,
   "id": "d8f63893",
   "metadata": {},
   "outputs": [
    {
     "data": {
      "text/html": [
       "<div>\n",
       "<style scoped>\n",
       "    .dataframe tbody tr th:only-of-type {\n",
       "        vertical-align: middle;\n",
       "    }\n",
       "\n",
       "    .dataframe tbody tr th {\n",
       "        vertical-align: top;\n",
       "    }\n",
       "\n",
       "    .dataframe thead th {\n",
       "        text-align: right;\n",
       "    }\n",
       "</style>\n",
       "<table border=\"1\" class=\"dataframe\">\n",
       "  <thead>\n",
       "    <tr style=\"text-align: right;\">\n",
       "      <th></th>\n",
       "      <th>mileage</th>\n",
       "      <th>make</th>\n",
       "      <th>model</th>\n",
       "      <th>fuel</th>\n",
       "      <th>gear</th>\n",
       "      <th>offerType</th>\n",
       "      <th>price</th>\n",
       "      <th>hp</th>\n",
       "      <th>year</th>\n",
       "    </tr>\n",
       "  </thead>\n",
       "  <tbody>\n",
       "    <tr>\n",
       "      <th>0</th>\n",
       "      <td>235000</td>\n",
       "      <td>BMW</td>\n",
       "      <td>316</td>\n",
       "      <td>Diesel</td>\n",
       "      <td>Manual</td>\n",
       "      <td>Used</td>\n",
       "      <td>6800</td>\n",
       "      <td>116.0</td>\n",
       "      <td>2011</td>\n",
       "    </tr>\n",
       "    <tr>\n",
       "      <th>1</th>\n",
       "      <td>92800</td>\n",
       "      <td>Volkswagen</td>\n",
       "      <td>Golf</td>\n",
       "      <td>Gasoline</td>\n",
       "      <td>Manual</td>\n",
       "      <td>Used</td>\n",
       "      <td>6877</td>\n",
       "      <td>122.0</td>\n",
       "      <td>2011</td>\n",
       "    </tr>\n",
       "    <tr>\n",
       "      <th>2</th>\n",
       "      <td>149300</td>\n",
       "      <td>SEAT</td>\n",
       "      <td>Exeo</td>\n",
       "      <td>Gasoline</td>\n",
       "      <td>Manual</td>\n",
       "      <td>Used</td>\n",
       "      <td>6900</td>\n",
       "      <td>160.0</td>\n",
       "      <td>2011</td>\n",
       "    </tr>\n",
       "    <tr>\n",
       "      <th>3</th>\n",
       "      <td>96200</td>\n",
       "      <td>Renault</td>\n",
       "      <td>Megane</td>\n",
       "      <td>Gasoline</td>\n",
       "      <td>Manual</td>\n",
       "      <td>Used</td>\n",
       "      <td>6950</td>\n",
       "      <td>110.0</td>\n",
       "      <td>2011</td>\n",
       "    </tr>\n",
       "    <tr>\n",
       "      <th>4</th>\n",
       "      <td>156000</td>\n",
       "      <td>Peugeot</td>\n",
       "      <td>308</td>\n",
       "      <td>Gasoline</td>\n",
       "      <td>Manual</td>\n",
       "      <td>Used</td>\n",
       "      <td>6950</td>\n",
       "      <td>156.0</td>\n",
       "      <td>2011</td>\n",
       "    </tr>\n",
       "  </tbody>\n",
       "</table>\n",
       "</div>"
      ],
      "text/plain": [
       "   mileage        make   model      fuel    gear offerType  price     hp  year\n",
       "0   235000         BMW     316    Diesel  Manual      Used   6800  116.0  2011\n",
       "1    92800  Volkswagen    Golf  Gasoline  Manual      Used   6877  122.0  2011\n",
       "2   149300        SEAT    Exeo  Gasoline  Manual      Used   6900  160.0  2011\n",
       "3    96200     Renault  Megane  Gasoline  Manual      Used   6950  110.0  2011\n",
       "4   156000     Peugeot     308  Gasoline  Manual      Used   6950  156.0  2011"
      ]
     },
     "execution_count": 3,
     "metadata": {},
     "output_type": "execute_result"
    }
   ],
   "source": [
    "df.head()"
   ]
  },
  {
   "cell_type": "code",
   "execution_count": 4,
   "id": "abe44382",
   "metadata": {},
   "outputs": [
    {
     "name": "stdout",
     "output_type": "stream",
     "text": [
      "<class 'pandas.core.frame.DataFrame'>\n",
      "RangeIndex: 46405 entries, 0 to 46404\n",
      "Data columns (total 9 columns):\n",
      " #   Column     Non-Null Count  Dtype  \n",
      "---  ------     --------------  -----  \n",
      " 0   mileage    46405 non-null  int64  \n",
      " 1   make       46405 non-null  object \n",
      " 2   model      46262 non-null  object \n",
      " 3   fuel       46405 non-null  object \n",
      " 4   gear       46223 non-null  object \n",
      " 5   offerType  46405 non-null  object \n",
      " 6   price      46405 non-null  int64  \n",
      " 7   hp         46376 non-null  float64\n",
      " 8   year       46405 non-null  int64  \n",
      "dtypes: float64(1), int64(3), object(5)\n",
      "memory usage: 3.2+ MB\n"
     ]
    }
   ],
   "source": [
    "df.info()"
   ]
  },
  {
   "cell_type": "code",
   "execution_count": 5,
   "id": "c5dbff88",
   "metadata": {},
   "outputs": [
    {
     "data": {
      "text/plain": [
       "mileage        0\n",
       "make           0\n",
       "model        143\n",
       "fuel           0\n",
       "gear         182\n",
       "offerType      0\n",
       "price          0\n",
       "hp            29\n",
       "year           0\n",
       "dtype: int64"
      ]
     },
     "execution_count": 5,
     "metadata": {},
     "output_type": "execute_result"
    }
   ],
   "source": [
    "df.isna().sum()"
   ]
  },
  {
   "cell_type": "code",
   "execution_count": 6,
   "id": "b3c79310",
   "metadata": {},
   "outputs": [
    {
     "data": {
      "text/plain": [
       "(46405, 9)"
      ]
     },
     "execution_count": 6,
     "metadata": {},
     "output_type": "execute_result"
    }
   ],
   "source": [
    "df.shape"
   ]
  },
  {
   "cell_type": "code",
   "execution_count": 7,
   "id": "b5ea1373",
   "metadata": {},
   "outputs": [],
   "source": [
    "#Lets drop null values of model, gear and hp\n",
    "df.dropna(inplace=True)"
   ]
  },
  {
   "cell_type": "code",
   "execution_count": 8,
   "id": "524ab6ef",
   "metadata": {},
   "outputs": [],
   "source": [
    "df['Age'] = 2022 - df['year']\n",
    "df.drop('year',axis=1,inplace = True)"
   ]
  },
  {
   "cell_type": "code",
   "execution_count": 9,
   "id": "272d2190",
   "metadata": {},
   "outputs": [
    {
     "data": {
      "text/html": [
       "<div>\n",
       "<style scoped>\n",
       "    .dataframe tbody tr th:only-of-type {\n",
       "        vertical-align: middle;\n",
       "    }\n",
       "\n",
       "    .dataframe tbody tr th {\n",
       "        vertical-align: top;\n",
       "    }\n",
       "\n",
       "    .dataframe thead th {\n",
       "        text-align: right;\n",
       "    }\n",
       "</style>\n",
       "<table border=\"1\" class=\"dataframe\">\n",
       "  <thead>\n",
       "    <tr style=\"text-align: right;\">\n",
       "      <th></th>\n",
       "      <th>mileage</th>\n",
       "      <th>price</th>\n",
       "      <th>hp</th>\n",
       "      <th>Age</th>\n",
       "    </tr>\n",
       "  </thead>\n",
       "  <tbody>\n",
       "    <tr>\n",
       "      <th>mileage</th>\n",
       "      <td>1.000000</td>\n",
       "      <td>-0.303550</td>\n",
       "      <td>-0.014901</td>\n",
       "      <td>0.678053</td>\n",
       "    </tr>\n",
       "    <tr>\n",
       "      <th>price</th>\n",
       "      <td>-0.303550</td>\n",
       "      <td>1.000000</td>\n",
       "      <td>0.746715</td>\n",
       "      <td>-0.405698</td>\n",
       "    </tr>\n",
       "    <tr>\n",
       "      <th>hp</th>\n",
       "      <td>-0.014901</td>\n",
       "      <td>0.746715</td>\n",
       "      <td>1.000000</td>\n",
       "      <td>-0.166900</td>\n",
       "    </tr>\n",
       "    <tr>\n",
       "      <th>Age</th>\n",
       "      <td>0.678053</td>\n",
       "      <td>-0.405698</td>\n",
       "      <td>-0.166900</td>\n",
       "      <td>1.000000</td>\n",
       "    </tr>\n",
       "  </tbody>\n",
       "</table>\n",
       "</div>"
      ],
      "text/plain": [
       "          mileage     price        hp       Age\n",
       "mileage  1.000000 -0.303550 -0.014901  0.678053\n",
       "price   -0.303550  1.000000  0.746715 -0.405698\n",
       "hp      -0.014901  0.746715  1.000000 -0.166900\n",
       "Age      0.678053 -0.405698 -0.166900  1.000000"
      ]
     },
     "execution_count": 9,
     "metadata": {},
     "output_type": "execute_result"
    }
   ],
   "source": [
    "df.corr()"
   ]
  },
  {
   "cell_type": "code",
   "execution_count": 10,
   "id": "9652065f",
   "metadata": {},
   "outputs": [
    {
     "data": {
      "image/png": "[encoded data removed]",
      "text/plain": [
       "<Figure size 432x288 with 2 Axes>"
      ]
     },
     "metadata": {
      "needs_background": "light"
     },
     "output_type": "display_data"
    }
   ],
   "source": [
    "sns.heatmap(df.corr(), annot=True, cmap=\"Set2\")\n",
    "plt.show()"
   ]
  },
  {
   "cell_type": "code",
   "execution_count": 11,
   "id": "c5441c45",
   "metadata": {},
   "outputs": [
    {
     "data": {
      "text/plain": [
       "mileage        int64\n",
       "make          object\n",
       "model         object\n",
       "fuel          object\n",
       "gear          object\n",
       "offerType     object\n",
       "price          int64\n",
       "hp           float64\n",
       "Age            int64\n",
       "dtype: object"
      ]
     },
     "execution_count": 11,
     "metadata": {},
     "output_type": "execute_result"
    }
   ],
   "source": [
    "df.dtypes"
   ]
  },
  {
   "cell_type": "code",
   "execution_count": 12,
   "id": "622e76db",
   "metadata": {},
   "outputs": [
    {
     "data": {
      "text/plain": [
       "array(['Used', 'Demonstration', \"Employee's car\", 'Pre-registered', 'New'],\n",
       "      dtype=object)"
      ]
     },
     "execution_count": 12,
     "metadata": {},
     "output_type": "execute_result"
    }
   ],
   "source": [
    "df.offerType.unique()"
   ]
  },
  {
   "cell_type": "code",
   "execution_count": 13,
   "id": "54158c5a",
   "metadata": {},
   "outputs": [
    {
     "data": {
      "text/plain": [
       "Used              39822\n",
       "Pre-registered     2768\n",
       "Demonstration      2351\n",
       "Employee's car     1117\n",
       "New                  13\n",
       "Name: offerType, dtype: int64"
      ]
     },
     "execution_count": 13,
     "metadata": {},
     "output_type": "execute_result"
    }
   ],
   "source": [
    "df.offerType.value_counts()"
   ]
  },
  {
   "cell_type": "code",
   "execution_count": 14,
   "id": "9d486b8d",
   "metadata": {},
   "outputs": [],
   "source": [
    "#drop 'new'by filtering out value counts below as we have only afew data values\n",
    "df = df.groupby(\"offerType\").filter(lambda x: len(x) > 50)"
   ]
  },
  {
   "cell_type": "code",
   "execution_count": 15,
   "id": "e56ec124",
   "metadata": {
    "scrolled": true
   },
   "outputs": [
    {
     "data": {
      "image/png": "[encoded data removed]",
      "text/plain": [
       "<Figure size 432x288 with 1 Axes>"
      ]
     },
     "metadata": {
      "needs_background": "light"
     },
     "output_type": "display_data"
    }
   ],
   "source": [
    "sns.barplot(x=\"offerType\", y=\"price\", data=df)\n",
    "plt.show()"
   ]
  },
  {
   "cell_type": "code",
   "execution_count": 16,
   "id": "c041f5b3",
   "metadata": {},
   "outputs": [
    {
     "data": {
      "text/plain": [
       "count    46058.000000\n",
       "mean       132.969538\n",
       "std         74.991707\n",
       "min          1.000000\n",
       "25%         86.000000\n",
       "50%        116.000000\n",
       "75%        150.000000\n",
       "max        850.000000\n",
       "Name: hp, dtype: float64"
      ]
     },
     "execution_count": 16,
     "metadata": {},
     "output_type": "execute_result"
    }
   ],
   "source": [
    "df.hp.describe()"
   ]
  },
  {
   "cell_type": "code",
   "execution_count": 17,
   "id": "3ff629d9",
   "metadata": {},
   "outputs": [],
   "source": [
    "#check for horsepower below 5 and drop\n",
    "hp_drop = df[df.hp<5]\n",
    "df.drop(hp_drop.index,inplace=True)"
   ]
  },
  {
   "cell_type": "code",
   "execution_count": 18,
   "id": "45c02ace",
   "metadata": {
    "scrolled": true
   },
   "outputs": [
    {
     "data": {
      "text/plain": [
       "array(['Diesel', 'Gasoline', 'Electric/Gasoline', '-/- (Fuel)',\n",
       "       'Electric', 'Electric/Diesel', 'CNG', 'LPG', 'Others', 'Hydrogen',\n",
       "       'Ethanol'], dtype=object)"
      ]
     },
     "execution_count": 18,
     "metadata": {},
     "output_type": "execute_result"
    }
   ],
   "source": [
    "df.fuel.unique()"
   ]
  },
  {
   "cell_type": "code",
   "execution_count": 19,
   "id": "cf649519",
   "metadata": {},
   "outputs": [],
   "source": [
    "#check for fuel with value counts above 50\n",
    "df = df.groupby(\"fuel\").filter(lambda x: len(x) > 50)"
   ]
  },
  {
   "cell_type": "code",
   "execution_count": 20,
   "id": "34a4a24c",
   "metadata": {},
   "outputs": [
    {
     "data": {
      "image/png": "[encoded data removed]",
      "text/plain": [
       "<Figure size 720x288 with 1 Axes>"
      ]
     },
     "metadata": {
      "needs_background": "light"
     },
     "output_type": "display_data"
    }
   ],
   "source": [
    "plt.subplots(figsize=(10,4))\n",
    "sns.barplot(x=\"fuel\", y=\"price\", data=df)\n",
    "plt.show()"
   ]
  },
  {
   "cell_type": "code",
   "execution_count": 21,
   "id": "d360943b",
   "metadata": {},
   "outputs": [
    {
     "data": {
      "text/plain": [
       "array(['Manual', 'Automatic', 'Semi-automatic'], dtype=object)"
      ]
     },
     "execution_count": 21,
     "metadata": {},
     "output_type": "execute_result"
    }
   ],
   "source": [
    "df.gear.unique()"
   ]
  },
  {
   "cell_type": "code",
   "execution_count": 22,
   "id": "22fe2e3c",
   "metadata": {},
   "outputs": [
    {
     "data": {
      "image/png": "[encoded data removed]",
      "text/plain": [
       "<Figure size 432x288 with 1 Axes>"
      ]
     },
     "metadata": {
      "needs_background": "light"
     },
     "output_type": "display_data"
    }
   ],
   "source": [
    "sns.barplot(x=\"gear\", y=\"price\", data=df)\n",
    "plt.show()"
   ]
  },
  {
   "cell_type": "code",
   "execution_count": 23,
   "id": "e8e24333",
   "metadata": {},
   "outputs": [],
   "source": [
    "#drop the make and model of car as \n",
    "df.drop(labels=['make','model'],axis= 1, inplace = True)"
   ]
  },
  {
   "cell_type": "code",
   "execution_count": 24,
   "id": "cc7eaf60",
   "metadata": {},
   "outputs": [
    {
     "data": {
      "text/html": [
       "<div>\n",
       "<style scoped>\n",
       "    .dataframe tbody tr th:only-of-type {\n",
       "        vertical-align: middle;\n",
       "    }\n",
       "\n",
       "    .dataframe tbody tr th {\n",
       "        vertical-align: top;\n",
       "    }\n",
       "\n",
       "    .dataframe thead th {\n",
       "        text-align: right;\n",
       "    }\n",
       "</style>\n",
       "<table border=\"1\" class=\"dataframe\">\n",
       "  <thead>\n",
       "    <tr style=\"text-align: right;\">\n",
       "      <th></th>\n",
       "      <th>mileage</th>\n",
       "      <th>fuel</th>\n",
       "      <th>gear</th>\n",
       "      <th>offerType</th>\n",
       "      <th>price</th>\n",
       "      <th>hp</th>\n",
       "      <th>Age</th>\n",
       "    </tr>\n",
       "  </thead>\n",
       "  <tbody>\n",
       "    <tr>\n",
       "      <th>0</th>\n",
       "      <td>235000</td>\n",
       "      <td>Diesel</td>\n",
       "      <td>Manual</td>\n",
       "      <td>Used</td>\n",
       "      <td>6800</td>\n",
       "      <td>116.0</td>\n",
       "      <td>11</td>\n",
       "    </tr>\n",
       "    <tr>\n",
       "      <th>1</th>\n",
       "      <td>92800</td>\n",
       "      <td>Gasoline</td>\n",
       "      <td>Manual</td>\n",
       "      <td>Used</td>\n",
       "      <td>6877</td>\n",
       "      <td>122.0</td>\n",
       "      <td>11</td>\n",
       "    </tr>\n",
       "    <tr>\n",
       "      <th>2</th>\n",
       "      <td>149300</td>\n",
       "      <td>Gasoline</td>\n",
       "      <td>Manual</td>\n",
       "      <td>Used</td>\n",
       "      <td>6900</td>\n",
       "      <td>160.0</td>\n",
       "      <td>11</td>\n",
       "    </tr>\n",
       "    <tr>\n",
       "      <th>3</th>\n",
       "      <td>96200</td>\n",
       "      <td>Gasoline</td>\n",
       "      <td>Manual</td>\n",
       "      <td>Used</td>\n",
       "      <td>6950</td>\n",
       "      <td>110.0</td>\n",
       "      <td>11</td>\n",
       "    </tr>\n",
       "    <tr>\n",
       "      <th>4</th>\n",
       "      <td>156000</td>\n",
       "      <td>Gasoline</td>\n",
       "      <td>Manual</td>\n",
       "      <td>Used</td>\n",
       "      <td>6950</td>\n",
       "      <td>156.0</td>\n",
       "      <td>11</td>\n",
       "    </tr>\n",
       "  </tbody>\n",
       "</table>\n",
       "</div>"
      ],
      "text/plain": [
       "   mileage      fuel    gear offerType  price     hp  Age\n",
       "0   235000    Diesel  Manual      Used   6800  116.0   11\n",
       "1    92800  Gasoline  Manual      Used   6877  122.0   11\n",
       "2   149300  Gasoline  Manual      Used   6900  160.0   11\n",
       "3    96200  Gasoline  Manual      Used   6950  110.0   11\n",
       "4   156000  Gasoline  Manual      Used   6950  156.0   11"
      ]
     },
     "execution_count": 24,
     "metadata": {},
     "output_type": "execute_result"
    }
   ],
   "source": [
    "df.head()"
   ]
  },
  {
   "cell_type": "code",
   "execution_count": 25,
   "id": "4e8a2881",
   "metadata": {},
   "outputs": [],
   "source": [
    "df = pd.get_dummies(data = df,drop_first=True)"
   ]
  },
  {
   "cell_type": "code",
   "execution_count": 26,
   "id": "e1e9260f",
   "metadata": {},
   "outputs": [
    {
     "data": {
      "text/html": [
       "<div>\n",
       "<style scoped>\n",
       "    .dataframe tbody tr th:only-of-type {\n",
       "        vertical-align: middle;\n",
       "    }\n",
       "\n",
       "    .dataframe tbody tr th {\n",
       "        vertical-align: top;\n",
       "    }\n",
       "\n",
       "    .dataframe thead th {\n",
       "        text-align: right;\n",
       "    }\n",
       "</style>\n",
       "<table border=\"1\" class=\"dataframe\">\n",
       "  <thead>\n",
       "    <tr style=\"text-align: right;\">\n",
       "      <th></th>\n",
       "      <th>mileage</th>\n",
       "      <th>price</th>\n",
       "      <th>hp</th>\n",
       "      <th>Age</th>\n",
       "      <th>fuel_Diesel</th>\n",
       "      <th>fuel_Electric</th>\n",
       "      <th>fuel_Electric/Diesel</th>\n",
       "      <th>fuel_Electric/Gasoline</th>\n",
       "      <th>fuel_Gasoline</th>\n",
       "      <th>fuel_LPG</th>\n",
       "      <th>gear_Manual</th>\n",
       "      <th>gear_Semi-automatic</th>\n",
       "      <th>offerType_Employee's car</th>\n",
       "      <th>offerType_Pre-registered</th>\n",
       "      <th>offerType_Used</th>\n",
       "    </tr>\n",
       "  </thead>\n",
       "  <tbody>\n",
       "    <tr>\n",
       "      <th>0</th>\n",
       "      <td>235000</td>\n",
       "      <td>6800</td>\n",
       "      <td>116.0</td>\n",
       "      <td>11</td>\n",
       "      <td>1</td>\n",
       "      <td>0</td>\n",
       "      <td>0</td>\n",
       "      <td>0</td>\n",
       "      <td>0</td>\n",
       "      <td>0</td>\n",
       "      <td>1</td>\n",
       "      <td>0</td>\n",
       "      <td>0</td>\n",
       "      <td>0</td>\n",
       "      <td>1</td>\n",
       "    </tr>\n",
       "    <tr>\n",
       "      <th>1</th>\n",
       "      <td>92800</td>\n",
       "      <td>6877</td>\n",
       "      <td>122.0</td>\n",
       "      <td>11</td>\n",
       "      <td>0</td>\n",
       "      <td>0</td>\n",
       "      <td>0</td>\n",
       "      <td>0</td>\n",
       "      <td>1</td>\n",
       "      <td>0</td>\n",
       "      <td>1</td>\n",
       "      <td>0</td>\n",
       "      <td>0</td>\n",
       "      <td>0</td>\n",
       "      <td>1</td>\n",
       "    </tr>\n",
       "    <tr>\n",
       "      <th>2</th>\n",
       "      <td>149300</td>\n",
       "      <td>6900</td>\n",
       "      <td>160.0</td>\n",
       "      <td>11</td>\n",
       "      <td>0</td>\n",
       "      <td>0</td>\n",
       "      <td>0</td>\n",
       "      <td>0</td>\n",
       "      <td>1</td>\n",
       "      <td>0</td>\n",
       "      <td>1</td>\n",
       "      <td>0</td>\n",
       "      <td>0</td>\n",
       "      <td>0</td>\n",
       "      <td>1</td>\n",
       "    </tr>\n",
       "    <tr>\n",
       "      <th>3</th>\n",
       "      <td>96200</td>\n",
       "      <td>6950</td>\n",
       "      <td>110.0</td>\n",
       "      <td>11</td>\n",
       "      <td>0</td>\n",
       "      <td>0</td>\n",
       "      <td>0</td>\n",
       "      <td>0</td>\n",
       "      <td>1</td>\n",
       "      <td>0</td>\n",
       "      <td>1</td>\n",
       "      <td>0</td>\n",
       "      <td>0</td>\n",
       "      <td>0</td>\n",
       "      <td>1</td>\n",
       "    </tr>\n",
       "    <tr>\n",
       "      <th>4</th>\n",
       "      <td>156000</td>\n",
       "      <td>6950</td>\n",
       "      <td>156.0</td>\n",
       "      <td>11</td>\n",
       "      <td>0</td>\n",
       "      <td>0</td>\n",
       "      <td>0</td>\n",
       "      <td>0</td>\n",
       "      <td>1</td>\n",
       "      <td>0</td>\n",
       "      <td>1</td>\n",
       "      <td>0</td>\n",
       "      <td>0</td>\n",
       "      <td>0</td>\n",
       "      <td>1</td>\n",
       "    </tr>\n",
       "  </tbody>\n",
       "</table>\n",
       "</div>"
      ],
      "text/plain": [
       "   mileage  price     hp  Age  fuel_Diesel  fuel_Electric  \\\n",
       "0   235000   6800  116.0   11            1              0   \n",
       "1    92800   6877  122.0   11            0              0   \n",
       "2   149300   6900  160.0   11            0              0   \n",
       "3    96200   6950  110.0   11            0              0   \n",
       "4   156000   6950  156.0   11            0              0   \n",
       "\n",
       "   fuel_Electric/Diesel  fuel_Electric/Gasoline  fuel_Gasoline  fuel_LPG  \\\n",
       "0                     0                       0              0         0   \n",
       "1                     0                       0              1         0   \n",
       "2                     0                       0              1         0   \n",
       "3                     0                       0              1         0   \n",
       "4                     0                       0              1         0   \n",
       "\n",
       "   gear_Manual  gear_Semi-automatic  offerType_Employee's car  \\\n",
       "0            1                    0                         0   \n",
       "1            1                    0                         0   \n",
       "2            1                    0                         0   \n",
       "3            1                    0                         0   \n",
       "4            1                    0                         0   \n",
       "\n",
       "   offerType_Pre-registered  offerType_Used  \n",
       "0                         0               1  \n",
       "1                         0               1  \n",
       "2                         0               1  \n",
       "3                         0               1  \n",
       "4                         0               1  "
      ]
     },
     "execution_count": 26,
     "metadata": {},
     "output_type": "execute_result"
    }
   ],
   "source": [
    "df.head()"
   ]
  },
  {
   "cell_type": "code",
   "execution_count": 27,
   "id": "1b62eed2",
   "metadata": {},
   "outputs": [
    {
     "data": {
      "text/plain": [
       "Index(['mileage', 'price', 'hp', 'Age', 'fuel_Diesel', 'fuel_Electric',\n",
       "       'fuel_Electric/Diesel', 'fuel_Electric/Gasoline', 'fuel_Gasoline',\n",
       "       'fuel_LPG', 'gear_Manual', 'gear_Semi-automatic',\n",
       "       'offerType_Employee's car', 'offerType_Pre-registered',\n",
       "       'offerType_Used'],\n",
       "      dtype='object')"
      ]
     },
     "execution_count": 27,
     "metadata": {},
     "output_type": "execute_result"
    }
   ],
   "source": [
    "df.columns"
   ]
  },
  {
   "cell_type": "code",
   "execution_count": 28,
   "id": "620afc97",
   "metadata": {},
   "outputs": [
    {
     "data": {
      "text/html": [
       "<div>\n",
       "<style scoped>\n",
       "    .dataframe tbody tr th:only-of-type {\n",
       "        vertical-align: middle;\n",
       "    }\n",
       "\n",
       "    .dataframe tbody tr th {\n",
       "        vertical-align: top;\n",
       "    }\n",
       "\n",
       "    .dataframe thead th {\n",
       "        text-align: right;\n",
       "    }\n",
       "</style>\n",
       "<table border=\"1\" class=\"dataframe\">\n",
       "  <thead>\n",
       "    <tr style=\"text-align: right;\">\n",
       "      <th></th>\n",
       "      <th>mileage</th>\n",
       "      <th>price</th>\n",
       "      <th>hp</th>\n",
       "      <th>Age</th>\n",
       "      <th>fuel_Diesel</th>\n",
       "      <th>fuel_Electric</th>\n",
       "      <th>fuel_Electric_Diesel</th>\n",
       "      <th>fuel_Electric_Gasoline</th>\n",
       "      <th>fuel_Gasoline</th>\n",
       "      <th>fuel_LPG</th>\n",
       "      <th>gear_Manual</th>\n",
       "      <th>gear_Semi_automatic</th>\n",
       "      <th>offerType_Employee_car</th>\n",
       "      <th>offerType_Pre_registered</th>\n",
       "      <th>offerType_Used</th>\n",
       "    </tr>\n",
       "  </thead>\n",
       "  <tbody>\n",
       "    <tr>\n",
       "      <th>0</th>\n",
       "      <td>235000</td>\n",
       "      <td>6800</td>\n",
       "      <td>116.0</td>\n",
       "      <td>11</td>\n",
       "      <td>1</td>\n",
       "      <td>0</td>\n",
       "      <td>0</td>\n",
       "      <td>0</td>\n",
       "      <td>0</td>\n",
       "      <td>0</td>\n",
       "      <td>1</td>\n",
       "      <td>0</td>\n",
       "      <td>0</td>\n",
       "      <td>0</td>\n",
       "      <td>1</td>\n",
       "    </tr>\n",
       "    <tr>\n",
       "      <th>1</th>\n",
       "      <td>92800</td>\n",
       "      <td>6877</td>\n",
       "      <td>122.0</td>\n",
       "      <td>11</td>\n",
       "      <td>0</td>\n",
       "      <td>0</td>\n",
       "      <td>0</td>\n",
       "      <td>0</td>\n",
       "      <td>1</td>\n",
       "      <td>0</td>\n",
       "      <td>1</td>\n",
       "      <td>0</td>\n",
       "      <td>0</td>\n",
       "      <td>0</td>\n",
       "      <td>1</td>\n",
       "    </tr>\n",
       "    <tr>\n",
       "      <th>2</th>\n",
       "      <td>149300</td>\n",
       "      <td>6900</td>\n",
       "      <td>160.0</td>\n",
       "      <td>11</td>\n",
       "      <td>0</td>\n",
       "      <td>0</td>\n",
       "      <td>0</td>\n",
       "      <td>0</td>\n",
       "      <td>1</td>\n",
       "      <td>0</td>\n",
       "      <td>1</td>\n",
       "      <td>0</td>\n",
       "      <td>0</td>\n",
       "      <td>0</td>\n",
       "      <td>1</td>\n",
       "    </tr>\n",
       "    <tr>\n",
       "      <th>3</th>\n",
       "      <td>96200</td>\n",
       "      <td>6950</td>\n",
       "      <td>110.0</td>\n",
       "      <td>11</td>\n",
       "      <td>0</td>\n",
       "      <td>0</td>\n",
       "      <td>0</td>\n",
       "      <td>0</td>\n",
       "      <td>1</td>\n",
       "      <td>0</td>\n",
       "      <td>1</td>\n",
       "      <td>0</td>\n",
       "      <td>0</td>\n",
       "      <td>0</td>\n",
       "      <td>1</td>\n",
       "    </tr>\n",
       "    <tr>\n",
       "      <th>4</th>\n",
       "      <td>156000</td>\n",
       "      <td>6950</td>\n",
       "      <td>156.0</td>\n",
       "      <td>11</td>\n",
       "      <td>0</td>\n",
       "      <td>0</td>\n",
       "      <td>0</td>\n",
       "      <td>0</td>\n",
       "      <td>1</td>\n",
       "      <td>0</td>\n",
       "      <td>1</td>\n",
       "      <td>0</td>\n",
       "      <td>0</td>\n",
       "      <td>0</td>\n",
       "      <td>1</td>\n",
       "    </tr>\n",
       "    <tr>\n",
       "      <th>...</th>\n",
       "      <td>...</td>\n",
       "      <td>...</td>\n",
       "      <td>...</td>\n",
       "      <td>...</td>\n",
       "      <td>...</td>\n",
       "      <td>...</td>\n",
       "      <td>...</td>\n",
       "      <td>...</td>\n",
       "      <td>...</td>\n",
       "      <td>...</td>\n",
       "      <td>...</td>\n",
       "      <td>...</td>\n",
       "      <td>...</td>\n",
       "      <td>...</td>\n",
       "      <td>...</td>\n",
       "    </tr>\n",
       "    <tr>\n",
       "      <th>46400</th>\n",
       "      <td>99</td>\n",
       "      <td>12990</td>\n",
       "      <td>71.0</td>\n",
       "      <td>1</td>\n",
       "      <td>0</td>\n",
       "      <td>0</td>\n",
       "      <td>0</td>\n",
       "      <td>1</td>\n",
       "      <td>0</td>\n",
       "      <td>0</td>\n",
       "      <td>1</td>\n",
       "      <td>0</td>\n",
       "      <td>0</td>\n",
       "      <td>1</td>\n",
       "      <td>0</td>\n",
       "    </tr>\n",
       "    <tr>\n",
       "      <th>46401</th>\n",
       "      <td>99</td>\n",
       "      <td>12990</td>\n",
       "      <td>71.0</td>\n",
       "      <td>1</td>\n",
       "      <td>0</td>\n",
       "      <td>0</td>\n",
       "      <td>0</td>\n",
       "      <td>1</td>\n",
       "      <td>0</td>\n",
       "      <td>0</td>\n",
       "      <td>1</td>\n",
       "      <td>0</td>\n",
       "      <td>0</td>\n",
       "      <td>1</td>\n",
       "      <td>0</td>\n",
       "    </tr>\n",
       "    <tr>\n",
       "      <th>46402</th>\n",
       "      <td>99</td>\n",
       "      <td>12990</td>\n",
       "      <td>71.0</td>\n",
       "      <td>1</td>\n",
       "      <td>0</td>\n",
       "      <td>0</td>\n",
       "      <td>0</td>\n",
       "      <td>1</td>\n",
       "      <td>0</td>\n",
       "      <td>0</td>\n",
       "      <td>1</td>\n",
       "      <td>0</td>\n",
       "      <td>0</td>\n",
       "      <td>1</td>\n",
       "      <td>0</td>\n",
       "    </tr>\n",
       "    <tr>\n",
       "      <th>46403</th>\n",
       "      <td>99</td>\n",
       "      <td>12990</td>\n",
       "      <td>71.0</td>\n",
       "      <td>1</td>\n",
       "      <td>0</td>\n",
       "      <td>0</td>\n",
       "      <td>0</td>\n",
       "      <td>1</td>\n",
       "      <td>0</td>\n",
       "      <td>0</td>\n",
       "      <td>1</td>\n",
       "      <td>0</td>\n",
       "      <td>0</td>\n",
       "      <td>1</td>\n",
       "      <td>0</td>\n",
       "    </tr>\n",
       "    <tr>\n",
       "      <th>46404</th>\n",
       "      <td>99</td>\n",
       "      <td>12990</td>\n",
       "      <td>71.0</td>\n",
       "      <td>1</td>\n",
       "      <td>0</td>\n",
       "      <td>0</td>\n",
       "      <td>0</td>\n",
       "      <td>1</td>\n",
       "      <td>0</td>\n",
       "      <td>0</td>\n",
       "      <td>1</td>\n",
       "      <td>0</td>\n",
       "      <td>0</td>\n",
       "      <td>1</td>\n",
       "      <td>0</td>\n",
       "    </tr>\n",
       "  </tbody>\n",
       "</table>\n",
       "<p>45985 rows × 15 columns</p>\n",
       "</div>"
      ],
      "text/plain": [
       "       mileage  price     hp  Age  fuel_Diesel  fuel_Electric  \\\n",
       "0       235000   6800  116.0   11            1              0   \n",
       "1        92800   6877  122.0   11            0              0   \n",
       "2       149300   6900  160.0   11            0              0   \n",
       "3        96200   6950  110.0   11            0              0   \n",
       "4       156000   6950  156.0   11            0              0   \n",
       "...        ...    ...    ...  ...          ...            ...   \n",
       "46400       99  12990   71.0    1            0              0   \n",
       "46401       99  12990   71.0    1            0              0   \n",
       "46402       99  12990   71.0    1            0              0   \n",
       "46403       99  12990   71.0    1            0              0   \n",
       "46404       99  12990   71.0    1            0              0   \n",
       "\n",
       "       fuel_Electric_Diesel  fuel_Electric_Gasoline  fuel_Gasoline  fuel_LPG  \\\n",
       "0                         0                       0              0         0   \n",
       "1                         0                       0              1         0   \n",
       "2                         0                       0              1         0   \n",
       "3                         0                       0              1         0   \n",
       "4                         0                       0              1         0   \n",
       "...                     ...                     ...            ...       ...   \n",
       "46400                     0                       1              0         0   \n",
       "46401                     0                       1              0         0   \n",
       "46402                     0                       1              0         0   \n",
       "46403                     0                       1              0         0   \n",
       "46404                     0                       1              0         0   \n",
       "\n",
       "       gear_Manual  gear_Semi_automatic  offerType_Employee_car  \\\n",
       "0                1                    0                       0   \n",
       "1                1                    0                       0   \n",
       "2                1                    0                       0   \n",
       "3                1                    0                       0   \n",
       "4                1                    0                       0   \n",
       "...            ...                  ...                     ...   \n",
       "46400            1                    0                       0   \n",
       "46401            1                    0                       0   \n",
       "46402            1                    0                       0   \n",
       "46403            1                    0                       0   \n",
       "46404            1                    0                       0   \n",
       "\n",
       "       offerType_Pre_registered  offerType_Used  \n",
       "0                             0               1  \n",
       "1                             0               1  \n",
       "2                             0               1  \n",
       "3                             0               1  \n",
       "4                             0               1  \n",
       "...                         ...             ...  \n",
       "46400                         1               0  \n",
       "46401                         1               0  \n",
       "46402                         1               0  \n",
       "46403                         1               0  \n",
       "46404                         1               0  \n",
       "\n",
       "[45985 rows x 15 columns]"
      ]
     },
     "execution_count": 28,
     "metadata": {},
     "output_type": "execute_result"
    }
   ],
   "source": [
    "df.rename(columns={'fuel_Electric/Diesel':'fuel_Electric_Diesel',\\\n",
    "           'fuel_Electric/Gasoline':'fuel_Electric_Gasoline',\\\n",
    "           \"offerType_Employee's car\":'offerType_Employee_car',\\\n",
    "           'offerType_Pre-registered':'offerType_Pre_registered',\\\n",
    "           'gear_Semi-automatic':'gear_Semi_automatic'})"
   ]
  },
  {
   "cell_type": "code",
   "execution_count": 29,
   "id": "223b7ac5",
   "metadata": {},
   "outputs": [
    {
     "data": {
      "text/html": [
       "<div>\n",
       "<style scoped>\n",
       "    .dataframe tbody tr th:only-of-type {\n",
       "        vertical-align: middle;\n",
       "    }\n",
       "\n",
       "    .dataframe tbody tr th {\n",
       "        vertical-align: top;\n",
       "    }\n",
       "\n",
       "    .dataframe thead th {\n",
       "        text-align: right;\n",
       "    }\n",
       "</style>\n",
       "<table border=\"1\" class=\"dataframe\">\n",
       "  <thead>\n",
       "    <tr style=\"text-align: right;\">\n",
       "      <th></th>\n",
       "      <th>mileage</th>\n",
       "      <th>price</th>\n",
       "      <th>hp</th>\n",
       "      <th>Age</th>\n",
       "      <th>fuel_Diesel</th>\n",
       "      <th>fuel_Electric</th>\n",
       "      <th>fuel_Electric/Diesel</th>\n",
       "      <th>fuel_Electric/Gasoline</th>\n",
       "      <th>fuel_Gasoline</th>\n",
       "      <th>fuel_LPG</th>\n",
       "      <th>gear_Manual</th>\n",
       "      <th>gear_Semi-automatic</th>\n",
       "      <th>offerType_Employee's car</th>\n",
       "      <th>offerType_Pre-registered</th>\n",
       "      <th>offerType_Used</th>\n",
       "    </tr>\n",
       "  </thead>\n",
       "  <tbody>\n",
       "    <tr>\n",
       "      <th>0</th>\n",
       "      <td>235000</td>\n",
       "      <td>6800</td>\n",
       "      <td>116.0</td>\n",
       "      <td>11</td>\n",
       "      <td>1</td>\n",
       "      <td>0</td>\n",
       "      <td>0</td>\n",
       "      <td>0</td>\n",
       "      <td>0</td>\n",
       "      <td>0</td>\n",
       "      <td>1</td>\n",
       "      <td>0</td>\n",
       "      <td>0</td>\n",
       "      <td>0</td>\n",
       "      <td>1</td>\n",
       "    </tr>\n",
       "    <tr>\n",
       "      <th>1</th>\n",
       "      <td>92800</td>\n",
       "      <td>6877</td>\n",
       "      <td>122.0</td>\n",
       "      <td>11</td>\n",
       "      <td>0</td>\n",
       "      <td>0</td>\n",
       "      <td>0</td>\n",
       "      <td>0</td>\n",
       "      <td>1</td>\n",
       "      <td>0</td>\n",
       "      <td>1</td>\n",
       "      <td>0</td>\n",
       "      <td>0</td>\n",
       "      <td>0</td>\n",
       "      <td>1</td>\n",
       "    </tr>\n",
       "    <tr>\n",
       "      <th>2</th>\n",
       "      <td>149300</td>\n",
       "      <td>6900</td>\n",
       "      <td>160.0</td>\n",
       "      <td>11</td>\n",
       "      <td>0</td>\n",
       "      <td>0</td>\n",
       "      <td>0</td>\n",
       "      <td>0</td>\n",
       "      <td>1</td>\n",
       "      <td>0</td>\n",
       "      <td>1</td>\n",
       "      <td>0</td>\n",
       "      <td>0</td>\n",
       "      <td>0</td>\n",
       "      <td>1</td>\n",
       "    </tr>\n",
       "    <tr>\n",
       "      <th>3</th>\n",
       "      <td>96200</td>\n",
       "      <td>6950</td>\n",
       "      <td>110.0</td>\n",
       "      <td>11</td>\n",
       "      <td>0</td>\n",
       "      <td>0</td>\n",
       "      <td>0</td>\n",
       "      <td>0</td>\n",
       "      <td>1</td>\n",
       "      <td>0</td>\n",
       "      <td>1</td>\n",
       "      <td>0</td>\n",
       "      <td>0</td>\n",
       "      <td>0</td>\n",
       "      <td>1</td>\n",
       "    </tr>\n",
       "    <tr>\n",
       "      <th>4</th>\n",
       "      <td>156000</td>\n",
       "      <td>6950</td>\n",
       "      <td>156.0</td>\n",
       "      <td>11</td>\n",
       "      <td>0</td>\n",
       "      <td>0</td>\n",
       "      <td>0</td>\n",
       "      <td>0</td>\n",
       "      <td>1</td>\n",
       "      <td>0</td>\n",
       "      <td>1</td>\n",
       "      <td>0</td>\n",
       "      <td>0</td>\n",
       "      <td>0</td>\n",
       "      <td>1</td>\n",
       "    </tr>\n",
       "  </tbody>\n",
       "</table>\n",
       "</div>"
      ],
      "text/plain": [
       "   mileage  price     hp  Age  fuel_Diesel  fuel_Electric  \\\n",
       "0   235000   6800  116.0   11            1              0   \n",
       "1    92800   6877  122.0   11            0              0   \n",
       "2   149300   6900  160.0   11            0              0   \n",
       "3    96200   6950  110.0   11            0              0   \n",
       "4   156000   6950  156.0   11            0              0   \n",
       "\n",
       "   fuel_Electric/Diesel  fuel_Electric/Gasoline  fuel_Gasoline  fuel_LPG  \\\n",
       "0                     0                       0              0         0   \n",
       "1                     0                       0              1         0   \n",
       "2                     0                       0              1         0   \n",
       "3                     0                       0              1         0   \n",
       "4                     0                       0              1         0   \n",
       "\n",
       "   gear_Manual  gear_Semi-automatic  offerType_Employee's car  \\\n",
       "0            1                    0                         0   \n",
       "1            1                    0                         0   \n",
       "2            1                    0                         0   \n",
       "3            1                    0                         0   \n",
       "4            1                    0                         0   \n",
       "\n",
       "   offerType_Pre-registered  offerType_Used  \n",
       "0                         0               1  \n",
       "1                         0               1  \n",
       "2                         0               1  \n",
       "3                         0               1  \n",
       "4                         0               1  "
      ]
     },
     "execution_count": 29,
     "metadata": {},
     "output_type": "execute_result"
    }
   ],
   "source": [
    "df.head()"
   ]
  },
  {
   "cell_type": "code",
   "execution_count": 30,
   "id": "20fc0267",
   "metadata": {},
   "outputs": [],
   "source": [
    "X = df.drop('price',axis=1)"
   ]
  },
  {
   "cell_type": "code",
   "execution_count": 31,
   "id": "6cd87aa1",
   "metadata": {},
   "outputs": [],
   "source": [
    "y=df.price"
   ]
  },
  {
   "cell_type": "code",
   "execution_count": 32,
   "id": "a21f3576",
   "metadata": {},
   "outputs": [],
   "source": [
    "from sklearn.model_selection import train_test_split\n",
    "from sklearn.linear_model import LinearRegression\n",
    "from sklearn.pipeline import Pipeline\n",
    "from sklearn.preprocessing import StandardScaler\n",
    "from sklearn.preprocessing import PolynomialFeatures"
   ]
  },
  {
   "cell_type": "code",
   "execution_count": 33,
   "id": "03b3fb36",
   "metadata": {},
   "outputs": [],
   "source": [
    "steps=[('scale',StandardScaler()),  ('polynomial', PolynomialFeatures(include_bias=False)),('model',LinearRegression())]"
   ]
  },
  {
   "cell_type": "code",
   "execution_count": 34,
   "id": "5a4ee5fa",
   "metadata": {},
   "outputs": [
    {
     "data": {
      "text/plain": [
       "Pipeline(steps=[('scale', StandardScaler()),\n",
       "                ('polynomial', PolynomialFeatures(include_bias=False)),\n",
       "                ('model', LinearRegression())])"
      ]
     },
     "execution_count": 34,
     "metadata": {},
     "output_type": "execute_result"
    }
   ],
   "source": [
    "pipe=Pipeline(steps)\n",
    "pipe"
   ]
  },
  {
   "cell_type": "code",
   "execution_count": 35,
   "id": "13a1e5e3",
   "metadata": {},
   "outputs": [],
   "source": [
    "X = X.astype(float)"
   ]
  },
  {
   "cell_type": "code",
   "execution_count": 36,
   "id": "ae6748d4",
   "metadata": {},
   "outputs": [
    {
     "data": {
      "text/plain": [
       "Index(['mileage', 'hp', 'Age', 'fuel_Diesel', 'fuel_Electric',\n",
       "       'fuel_Electric/Diesel', 'fuel_Electric/Gasoline', 'fuel_Gasoline',\n",
       "       'fuel_LPG', 'gear_Manual', 'gear_Semi-automatic',\n",
       "       'offerType_Employee's car', 'offerType_Pre-registered',\n",
       "       'offerType_Used'],\n",
       "      dtype='object')"
      ]
     },
     "execution_count": 36,
     "metadata": {},
     "output_type": "execute_result"
    }
   ],
   "source": [
    "X.columns"
   ]
  },
  {
   "cell_type": "code",
   "execution_count": 37,
   "id": "01f51e0d",
   "metadata": {},
   "outputs": [
    {
     "data": {
      "text/plain": [
       "Pipeline(steps=[('scale', StandardScaler()),\n",
       "                ('polynomial', PolynomialFeatures(include_bias=False)),\n",
       "                ('model', LinearRegression())])"
      ]
     },
     "execution_count": 37,
     "metadata": {},
     "output_type": "execute_result"
    }
   ],
   "source": [
    "#split train and test\n",
    "X_train, X_test, y_train, y_test = train_test_split(X, y, test_size=0.4, random_state=2)\n",
    "#fit model\n",
    "pipe.fit(X_train,y_train)"
   ]
  },
  {
   "cell_type": "code",
   "execution_count": 38,
   "id": "4507bac0",
   "metadata": {},
   "outputs": [
    {
     "data": {
      "text/plain": [
       "array([ 9500.81499481,  7243.72950745, 14396.20492935, 64826.3000946 ])"
      ]
     },
     "execution_count": 38,
     "metadata": {},
     "output_type": "execute_result"
    }
   ],
   "source": [
    "ypipe_train=pipe.predict(X_train)\n",
    "ypipe_train[0:4]"
   ]
  },
  {
   "cell_type": "code",
   "execution_count": 39,
   "id": "d1be64ec",
   "metadata": {},
   "outputs": [
    {
     "name": "stdout",
     "output_type": "stream",
     "text": [
      "The R-square is: 0.7248156493230135\n"
     ]
    }
   ],
   "source": [
    "print('The R-square is:', pipe.score(X_train, y_train))"
   ]
  },
  {
   "cell_type": "code",
   "execution_count": 40,
   "id": "ecf86d47",
   "metadata": {},
   "outputs": [
    {
     "data": {
      "text/plain": [
       "array([ 9246.13947296,  7818.723526  , 12019.78351593, 29361.37171936])"
      ]
     },
     "execution_count": 40,
     "metadata": {},
     "output_type": "execute_result"
    }
   ],
   "source": [
    "ypipe_test=pipe.predict(X_test)\n",
    "ypipe_test[0:4]"
   ]
  },
  {
   "cell_type": "code",
   "execution_count": 41,
   "id": "6dec0c24",
   "metadata": {},
   "outputs": [
    {
     "data": {
      "text/plain": [
       "<matplotlib.collections.PathCollection at 0x2d08d81a800>"
      ]
     },
     "execution_count": 41,
     "metadata": {},
     "output_type": "execute_result"
    },
    {
     "data": {
      "image/png": "[encoded data removed]",
      "text/plain": [
       "<Figure size 432x288 with 1 Axes>"
      ]
     },
     "metadata": {
      "needs_background": "light"
     },
     "output_type": "display_data"
    }
   ],
   "source": [
    "plt.scatter(y_test,ypipe_test)"
   ]
  },
  {
   "cell_type": "code",
   "execution_count": 42,
   "id": "ce20d7f8",
   "metadata": {},
   "outputs": [
    {
     "name": "stdout",
     "output_type": "stream",
     "text": [
      "The R-square is: 0.8318965865614936\n"
     ]
    }
   ],
   "source": [
    "print('The R-square is:', pipe.score(X_test, y_test))"
   ]
  },
  {
   "cell_type": "code",
   "execution_count": 43,
   "id": "755b209c",
   "metadata": {},
   "outputs": [
    {
     "data": {
      "image/png": "[encoded data removed]",
      "text/plain": [
       "<Figure size 360x360 with 1 Axes>"
      ]
     },
     "metadata": {
      "needs_background": "light"
     },
     "output_type": "display_data"
    }
   ],
   "source": [
    "#sns.displot((y1_train-ypipe_train),hist = False)\n",
    "sns.displot((y_train-ypipe_train))\n",
    "plt.show()"
   ]
  },
  {
   "cell_type": "code",
   "execution_count": 44,
   "id": "b559efa2",
   "metadata": {},
   "outputs": [],
   "source": [
    "import pickle"
   ]
  },
  {
   "cell_type": "code",
   "execution_count": 45,
   "id": "20486125",
   "metadata": {},
   "outputs": [],
   "source": [
    "with open('regression_model.pkl','wb') as file:\n",
    "    pickle.dump(pipe, file)"
   ]
  },
  {
   "cell_type": "code",
   "execution_count": null,
   "id": "659df3bb",
   "metadata": {},
   "outputs": [],
   "source": []
  },
  {
   "cell_type": "code",
   "execution_count": null,
   "id": "2c817385",
   "metadata": {},
   "outputs": [],
   "source": []
  }
 ],
 "metadata": {
  "kernelspec": {
   "display_name": "Python 3 (ipykernel)",
   "language": "python",
   "name": "python3"
  },
  "language_info": {
   "codemirror_mode": {
    "name": "ipython",
    "version": 3
   },
   "file_extension": ".py",
   "mimetype": "text/x-python",
   "name": "python",
   "nbconvert_exporter": "python",
   "pygments_lexer": "ipython3",
   "version": "3.10.1"
  }
 },
 "nbformat": 4,
 "nbformat_minor": 5
}
