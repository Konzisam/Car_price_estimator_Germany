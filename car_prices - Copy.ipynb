{
 "cells": [
  {
   "cell_type": "code",
   "execution_count": 442,
   "id": "c88e7910",
   "metadata": {},
   "outputs": [],
   "source": [
    "import pandas as pd\n",
    "import matplotlib.pyplot as plt\n",
    "import numpy as np\n",
    "import sklearn\n",
    "import seaborn as sns"
   ]
  },
  {
   "cell_type": "code",
   "execution_count": 443,
   "id": "e592fc8d",
   "metadata": {},
   "outputs": [],
   "source": [
    "df = pd.read_csv('germany-cars-zenrows.csv')"
   ]
  },
  {
   "cell_type": "code",
   "execution_count": 444,
   "id": "d8f63893",
   "metadata": {},
   "outputs": [
    {
     "data": {
      "text/html": [
       "<div>\n",
       "<style scoped>\n",
       "    .dataframe tbody tr th:only-of-type {\n",
       "        vertical-align: middle;\n",
       "    }\n",
       "\n",
       "    .dataframe tbody tr th {\n",
       "        vertical-align: top;\n",
       "    }\n",
       "\n",
       "    .dataframe thead th {\n",
       "        text-align: right;\n",
       "    }\n",
       "</style>\n",
       "<table border=\"1\" class=\"dataframe\">\n",
       "  <thead>\n",
       "    <tr style=\"text-align: right;\">\n",
       "      <th></th>\n",
       "      <th>mileage</th>\n",
       "      <th>make</th>\n",
       "      <th>model</th>\n",
       "      <th>fuel</th>\n",
       "      <th>gear</th>\n",
       "      <th>offerType</th>\n",
       "      <th>price</th>\n",
       "      <th>hp</th>\n",
       "      <th>year</th>\n",
       "    </tr>\n",
       "  </thead>\n",
       "  <tbody>\n",
       "    <tr>\n",
       "      <th>0</th>\n",
       "      <td>235000</td>\n",
       "      <td>BMW</td>\n",
       "      <td>316</td>\n",
       "      <td>Diesel</td>\n",
       "      <td>Manual</td>\n",
       "      <td>Used</td>\n",
       "      <td>6800</td>\n",
       "      <td>116.0</td>\n",
       "      <td>2011</td>\n",
       "    </tr>\n",
       "    <tr>\n",
       "      <th>1</th>\n",
       "      <td>92800</td>\n",
       "      <td>Volkswagen</td>\n",
       "      <td>Golf</td>\n",
       "      <td>Gasoline</td>\n",
       "      <td>Manual</td>\n",
       "      <td>Used</td>\n",
       "      <td>6877</td>\n",
       "      <td>122.0</td>\n",
       "      <td>2011</td>\n",
       "    </tr>\n",
       "    <tr>\n",
       "      <th>2</th>\n",
       "      <td>149300</td>\n",
       "      <td>SEAT</td>\n",
       "      <td>Exeo</td>\n",
       "      <td>Gasoline</td>\n",
       "      <td>Manual</td>\n",
       "      <td>Used</td>\n",
       "      <td>6900</td>\n",
       "      <td>160.0</td>\n",
       "      <td>2011</td>\n",
       "    </tr>\n",
       "    <tr>\n",
       "      <th>3</th>\n",
       "      <td>96200</td>\n",
       "      <td>Renault</td>\n",
       "      <td>Megane</td>\n",
       "      <td>Gasoline</td>\n",
       "      <td>Manual</td>\n",
       "      <td>Used</td>\n",
       "      <td>6950</td>\n",
       "      <td>110.0</td>\n",
       "      <td>2011</td>\n",
       "    </tr>\n",
       "    <tr>\n",
       "      <th>4</th>\n",
       "      <td>156000</td>\n",
       "      <td>Peugeot</td>\n",
       "      <td>308</td>\n",
       "      <td>Gasoline</td>\n",
       "      <td>Manual</td>\n",
       "      <td>Used</td>\n",
       "      <td>6950</td>\n",
       "      <td>156.0</td>\n",
       "      <td>2011</td>\n",
       "    </tr>\n",
       "  </tbody>\n",
       "</table>\n",
       "</div>"
      ],
      "text/plain": [
       "   mileage        make   model      fuel    gear offerType  price     hp  year\n",
       "0   235000         BMW     316    Diesel  Manual      Used   6800  116.0  2011\n",
       "1    92800  Volkswagen    Golf  Gasoline  Manual      Used   6877  122.0  2011\n",
       "2   149300        SEAT    Exeo  Gasoline  Manual      Used   6900  160.0  2011\n",
       "3    96200     Renault  Megane  Gasoline  Manual      Used   6950  110.0  2011\n",
       "4   156000     Peugeot     308  Gasoline  Manual      Used   6950  156.0  2011"
      ]
     },
     "execution_count": 444,
     "metadata": {},
     "output_type": "execute_result"
    }
   ],
   "source": [
    "df.head()"
   ]
  },
  {
   "cell_type": "code",
   "execution_count": 445,
   "id": "abe44382",
   "metadata": {},
   "outputs": [
    {
     "name": "stdout",
     "output_type": "stream",
     "text": [
      "<class 'pandas.core.frame.DataFrame'>\n",
      "RangeIndex: 46405 entries, 0 to 46404\n",
      "Data columns (total 9 columns):\n",
      " #   Column     Non-Null Count  Dtype  \n",
      "---  ------     --------------  -----  \n",
      " 0   mileage    46405 non-null  int64  \n",
      " 1   make       46405 non-null  object \n",
      " 2   model      46262 non-null  object \n",
      " 3   fuel       46405 non-null  object \n",
      " 4   gear       46223 non-null  object \n",
      " 5   offerType  46405 non-null  object \n",
      " 6   price      46405 non-null  int64  \n",
      " 7   hp         46376 non-null  float64\n",
      " 8   year       46405 non-null  int64  \n",
      "dtypes: float64(1), int64(3), object(5)\n",
      "memory usage: 3.2+ MB\n"
     ]
    }
   ],
   "source": [
    "df.info()"
   ]
  },
  {
   "cell_type": "code",
   "execution_count": 446,
   "id": "c5dbff88",
   "metadata": {},
   "outputs": [
    {
     "data": {
      "text/plain": [
       "mileage        0\n",
       "make           0\n",
       "model        143\n",
       "fuel           0\n",
       "gear         182\n",
       "offerType      0\n",
       "price          0\n",
       "hp            29\n",
       "year           0\n",
       "dtype: int64"
      ]
     },
     "execution_count": 446,
     "metadata": {},
     "output_type": "execute_result"
    }
   ],
   "source": [
    "df.isna().sum()"
   ]
  },
  {
   "cell_type": "code",
   "execution_count": 447,
   "id": "b3c79310",
   "metadata": {},
   "outputs": [
    {
     "data": {
      "text/plain": [
       "(46405, 9)"
      ]
     },
     "execution_count": 447,
     "metadata": {},
     "output_type": "execute_result"
    }
   ],
   "source": [
    "df.shape"
   ]
  },
  {
   "cell_type": "code",
   "execution_count": 448,
   "id": "b5ea1373",
   "metadata": {},
   "outputs": [],
   "source": [
    "#Lets drop null values of model, gear and hp\n",
    "df.dropna(inplace=True)"
   ]
  },
  {
   "cell_type": "code",
   "execution_count": 449,
   "id": "524ab6ef",
   "metadata": {},
   "outputs": [],
   "source": [
    "df['Age'] = 2022 - df['year']\n",
    "df.drop('year',axis=1,inplace = True)"
   ]
  },
  {
   "cell_type": "code",
   "execution_count": 450,
   "id": "272d2190",
   "metadata": {},
   "outputs": [
    {
     "data": {
      "text/html": [
       "<div>\n",
       "<style scoped>\n",
       "    .dataframe tbody tr th:only-of-type {\n",
       "        vertical-align: middle;\n",
       "    }\n",
       "\n",
       "    .dataframe tbody tr th {\n",
       "        vertical-align: top;\n",
       "    }\n",
       "\n",
       "    .dataframe thead th {\n",
       "        text-align: right;\n",
       "    }\n",
       "</style>\n",
       "<table border=\"1\" class=\"dataframe\">\n",
       "  <thead>\n",
       "    <tr style=\"text-align: right;\">\n",
       "      <th></th>\n",
       "      <th>mileage</th>\n",
       "      <th>price</th>\n",
       "      <th>hp</th>\n",
       "      <th>Age</th>\n",
       "    </tr>\n",
       "  </thead>\n",
       "  <tbody>\n",
       "    <tr>\n",
       "      <th>mileage</th>\n",
       "      <td>1.000000</td>\n",
       "      <td>-0.303550</td>\n",
       "      <td>-0.014901</td>\n",
       "      <td>0.678053</td>\n",
       "    </tr>\n",
       "    <tr>\n",
       "      <th>price</th>\n",
       "      <td>-0.303550</td>\n",
       "      <td>1.000000</td>\n",
       "      <td>0.746715</td>\n",
       "      <td>-0.405698</td>\n",
       "    </tr>\n",
       "    <tr>\n",
       "      <th>hp</th>\n",
       "      <td>-0.014901</td>\n",
       "      <td>0.746715</td>\n",
       "      <td>1.000000</td>\n",
       "      <td>-0.166900</td>\n",
       "    </tr>\n",
       "    <tr>\n",
       "      <th>Age</th>\n",
       "      <td>0.678053</td>\n",
       "      <td>-0.405698</td>\n",
       "      <td>-0.166900</td>\n",
       "      <td>1.000000</td>\n",
       "    </tr>\n",
       "  </tbody>\n",
       "</table>\n",
       "</div>"
      ],
      "text/plain": [
       "          mileage     price        hp       Age\n",
       "mileage  1.000000 -0.303550 -0.014901  0.678053\n",
       "price   -0.303550  1.000000  0.746715 -0.405698\n",
       "hp      -0.014901  0.746715  1.000000 -0.166900\n",
       "Age      0.678053 -0.405698 -0.166900  1.000000"
      ]
     },
     "execution_count": 450,
     "metadata": {},
     "output_type": "execute_result"
    }
   ],
   "source": [
    "df.corr()"
   ]
  },
  {
   "cell_type": "code",
   "execution_count": 451,
   "id": "9652065f",
   "metadata": {},
   "outputs": [
    {
     "data": {
      "image/png": "[encoded data removed]",
      "text/plain": [
       "<Figure size 432x288 with 2 Axes>"
      ]
     },
     "metadata": {
      "needs_background": "light"
     },
     "output_type": "display_data"
    }
   ],
   "source": [
    "sns.heatmap(df.corr(), annot=True, cmap=\"Set2\")\n",
    "plt.show()"
   ]
  },
  {
   "cell_type": "code",
   "execution_count": 452,
   "id": "c5441c45",
   "metadata": {},
   "outputs": [
    {
     "data": {
      "text/plain": [
       "mileage        int64\n",
       "make          object\n",
       "model         object\n",
       "fuel          object\n",
       "gear          object\n",
       "offerType     object\n",
       "price          int64\n",
       "hp           float64\n",
       "Age            int64\n",
       "dtype: object"
      ]
     },
     "execution_count": 452,
     "metadata": {},
     "output_type": "execute_result"
    }
   ],
   "source": [
    "df.dtypes"
   ]
  },
  {
   "cell_type": "code",
   "execution_count": 453,
   "id": "622e76db",
   "metadata": {},
   "outputs": [
    {
     "data": {
      "text/plain": [
       "array(['Used', 'Demonstration', \"Employee's car\", 'Pre-registered', 'New'],\n",
       "      dtype=object)"
      ]
     },
     "execution_count": 453,
     "metadata": {},
     "output_type": "execute_result"
    }
   ],
   "source": [
    "df.offerType.unique()"
   ]
  },
  {
   "cell_type": "code",
   "execution_count": 454,
   "id": "c74cd29f",
   "metadata": {},
   "outputs": [
    {
     "data": {
      "text/plain": [
       "Used              39822\n",
       "Pre-registered     2768\n",
       "Demonstration      2351\n",
       "Employee's car     1117\n",
       "New                  13\n",
       "Name: offerType, dtype: int64"
      ]
     },
     "execution_count": 454,
     "metadata": {},
     "output_type": "execute_result"
    }
   ],
   "source": [
    "df.offerType.value_counts()"
   ]
  },
  {
   "cell_type": "code",
   "execution_count": 455,
   "id": "58c5caf2",
   "metadata": {},
   "outputs": [],
   "source": [
    "#drop 'new'by filtering out value counts below as we have only afew data values\n",
    "df = df.groupby(\"offerType\").filter(lambda x: len(x) > 50)"
   ]
  },
  {
   "cell_type": "code",
   "execution_count": 456,
   "id": "e56ec124",
   "metadata": {
    "scrolled": true
   },
   "outputs": [
    {
     "data": {
      "image/png": "[encoded data removed]",
      "text/plain": [
       "<Figure size 432x288 with 1 Axes>"
      ]
     },
     "metadata": {
      "needs_background": "light"
     },
     "output_type": "display_data"
    }
   ],
   "source": [
    "sns.barplot(x=\"offerType\", y=\"price\", data=df)\n",
    "plt.show()"
   ]
  },
  {
   "cell_type": "code",
   "execution_count": 457,
   "id": "f94abcd7",
   "metadata": {},
   "outputs": [
    {
     "data": {
      "text/plain": [
       "count    46058.000000\n",
       "mean       132.969538\n",
       "std         74.991707\n",
       "min          1.000000\n",
       "25%         86.000000\n",
       "50%        116.000000\n",
       "75%        150.000000\n",
       "max        850.000000\n",
       "Name: hp, dtype: float64"
      ]
     },
     "execution_count": 457,
     "metadata": {},
     "output_type": "execute_result"
    }
   ],
   "source": [
    "df.hp.describe()"
   ]
  },
  {
   "cell_type": "code",
   "execution_count": 458,
   "id": "3ff629d9",
   "metadata": {},
   "outputs": [],
   "source": [
    "#check for horsepower below 5 and drop\n",
    "hp_drop = df[df.hp<5]\n",
    "df.drop(hp_drop.index,inplace=True)"
   ]
  },
  {
   "cell_type": "code",
   "execution_count": 459,
   "id": "f5576e8f",
   "metadata": {},
   "outputs": [
    {
     "data": {
      "text/plain": [
       "array(['Diesel', 'Gasoline', 'Electric/Gasoline', '-/- (Fuel)',\n",
       "       'Electric', 'Electric/Diesel', 'CNG', 'LPG', 'Others', 'Hydrogen',\n",
       "       'Ethanol'], dtype=object)"
      ]
     },
     "execution_count": 459,
     "metadata": {},
     "output_type": "execute_result"
    }
   ],
   "source": [
    "df.fuel.unique()"
   ]
  },
  {
   "cell_type": "code",
   "execution_count": 460,
   "id": "75fbd05f",
   "metadata": {},
   "outputs": [],
   "source": [
    "#check for fuel with value counts above 50\n",
    "df = df.groupby(\"fuel\").filter(lambda x: len(x) > 50)"
   ]
  },
  {
   "cell_type": "code",
   "execution_count": 461,
   "id": "bf80b85a",
   "metadata": {},
   "outputs": [
    {
     "data": {
      "image/png": "[encoded data removed]",
      "text/plain": [
       "<Figure size 720x288 with 1 Axes>"
      ]
     },
     "metadata": {
      "needs_background": "light"
     },
     "output_type": "display_data"
    }
   ],
   "source": [
    "plt.subplots(figsize=(10,4))\n",
    "sns.barplot(x=\"fuel\", y=\"price\", data=df)\n",
    "plt.show()"
   ]
  },
  {
   "cell_type": "code",
   "execution_count": 462,
   "id": "96d73483",
   "metadata": {},
   "outputs": [
    {
     "data": {
      "text/plain": [
       "array(['Manual', 'Automatic', 'Semi-automatic'], dtype=object)"
      ]
     },
     "execution_count": 462,
     "metadata": {},
     "output_type": "execute_result"
    }
   ],
   "source": [
    "df.gear.unique()"
   ]
  },
  {
   "cell_type": "code",
   "execution_count": 463,
   "id": "9e12185b",
   "metadata": {},
   "outputs": [
    {
     "data": {
      "image/png": "[encoded data removed]",
      "text/plain": [
       "<Figure size 432x288 with 1 Axes>"
      ]
     },
     "metadata": {
      "needs_background": "light"
     },
     "output_type": "display_data"
    }
   ],
   "source": [
    "sns.barplot(x=\"gear\", y=\"price\", data=df)\n",
    "plt.show()"
   ]
  },
  {
   "cell_type": "code",
   "execution_count": 464,
   "id": "8ab75cf1",
   "metadata": {},
   "outputs": [],
   "source": [
    "#drop the make and model of car as \n",
    "df.drop(labels=['make','model'],axis= 1, inplace = True)"
   ]
  },
  {
   "cell_type": "code",
   "execution_count": 465,
   "id": "3850405f",
   "metadata": {},
   "outputs": [
    {
     "data": {
      "text/html": [
       "<div>\n",
       "<style scoped>\n",
       "    .dataframe tbody tr th:only-of-type {\n",
       "        vertical-align: middle;\n",
       "    }\n",
       "\n",
       "    .dataframe tbody tr th {\n",
       "        vertical-align: top;\n",
       "    }\n",
       "\n",
       "    .dataframe thead th {\n",
       "        text-align: right;\n",
       "    }\n",
       "</style>\n",
       "<table border=\"1\" class=\"dataframe\">\n",
       "  <thead>\n",
       "    <tr style=\"text-align: right;\">\n",
       "      <th></th>\n",
       "      <th>mileage</th>\n",
       "      <th>fuel</th>\n",
       "      <th>gear</th>\n",
       "      <th>offerType</th>\n",
       "      <th>price</th>\n",
       "      <th>hp</th>\n",
       "      <th>Age</th>\n",
       "    </tr>\n",
       "  </thead>\n",
       "  <tbody>\n",
       "    <tr>\n",
       "      <th>0</th>\n",
       "      <td>235000</td>\n",
       "      <td>Diesel</td>\n",
       "      <td>Manual</td>\n",
       "      <td>Used</td>\n",
       "      <td>6800</td>\n",
       "      <td>116.0</td>\n",
       "      <td>11</td>\n",
       "    </tr>\n",
       "    <tr>\n",
       "      <th>1</th>\n",
       "      <td>92800</td>\n",
       "      <td>Gasoline</td>\n",
       "      <td>Manual</td>\n",
       "      <td>Used</td>\n",
       "      <td>6877</td>\n",
       "      <td>122.0</td>\n",
       "      <td>11</td>\n",
       "    </tr>\n",
       "    <tr>\n",
       "      <th>2</th>\n",
       "      <td>149300</td>\n",
       "      <td>Gasoline</td>\n",
       "      <td>Manual</td>\n",
       "      <td>Used</td>\n",
       "      <td>6900</td>\n",
       "      <td>160.0</td>\n",
       "      <td>11</td>\n",
       "    </tr>\n",
       "    <tr>\n",
       "      <th>3</th>\n",
       "      <td>96200</td>\n",
       "      <td>Gasoline</td>\n",
       "      <td>Manual</td>\n",
       "      <td>Used</td>\n",
       "      <td>6950</td>\n",
       "      <td>110.0</td>\n",
       "      <td>11</td>\n",
       "    </tr>\n",
       "    <tr>\n",
       "      <th>4</th>\n",
       "      <td>156000</td>\n",
       "      <td>Gasoline</td>\n",
       "      <td>Manual</td>\n",
       "      <td>Used</td>\n",
       "      <td>6950</td>\n",
       "      <td>156.0</td>\n",
       "      <td>11</td>\n",
       "    </tr>\n",
       "  </tbody>\n",
       "</table>\n",
       "</div>"
      ],
      "text/plain": [
       "   mileage      fuel    gear offerType  price     hp  Age\n",
       "0   235000    Diesel  Manual      Used   6800  116.0   11\n",
       "1    92800  Gasoline  Manual      Used   6877  122.0   11\n",
       "2   149300  Gasoline  Manual      Used   6900  160.0   11\n",
       "3    96200  Gasoline  Manual      Used   6950  110.0   11\n",
       "4   156000  Gasoline  Manual      Used   6950  156.0   11"
      ]
     },
     "execution_count": 465,
     "metadata": {},
     "output_type": "execute_result"
    }
   ],
   "source": [
    "df.head()"
   ]
  },
  {
   "cell_type": "code",
   "execution_count": 466,
   "id": "4221bf2d",
   "metadata": {},
   "outputs": [],
   "source": [
    "df = pd.get_dummies(data = df,drop_first=True)"
   ]
  },
  {
   "cell_type": "code",
   "execution_count": 467,
   "id": "e7a56973",
   "metadata": {},
   "outputs": [
    {
     "data": {
      "text/html": [
       "<div>\n",
       "<style scoped>\n",
       "    .dataframe tbody tr th:only-of-type {\n",
       "        vertical-align: middle;\n",
       "    }\n",
       "\n",
       "    .dataframe tbody tr th {\n",
       "        vertical-align: top;\n",
       "    }\n",
       "\n",
       "    .dataframe thead th {\n",
       "        text-align: right;\n",
       "    }\n",
       "</style>\n",
       "<table border=\"1\" class=\"dataframe\">\n",
       "  <thead>\n",
       "    <tr style=\"text-align: right;\">\n",
       "      <th></th>\n",
       "      <th>mileage</th>\n",
       "      <th>price</th>\n",
       "      <th>hp</th>\n",
       "      <th>Age</th>\n",
       "      <th>fuel_Diesel</th>\n",
       "      <th>fuel_Electric</th>\n",
       "      <th>fuel_Electric/Diesel</th>\n",
       "      <th>fuel_Electric/Gasoline</th>\n",
       "      <th>fuel_Gasoline</th>\n",
       "      <th>fuel_LPG</th>\n",
       "      <th>gear_Manual</th>\n",
       "      <th>gear_Semi-automatic</th>\n",
       "      <th>offerType_Employee's car</th>\n",
       "      <th>offerType_Pre-registered</th>\n",
       "      <th>offerType_Used</th>\n",
       "    </tr>\n",
       "  </thead>\n",
       "  <tbody>\n",
       "    <tr>\n",
       "      <th>0</th>\n",
       "      <td>235000</td>\n",
       "      <td>6800</td>\n",
       "      <td>116.0</td>\n",
       "      <td>11</td>\n",
       "      <td>1</td>\n",
       "      <td>0</td>\n",
       "      <td>0</td>\n",
       "      <td>0</td>\n",
       "      <td>0</td>\n",
       "      <td>0</td>\n",
       "      <td>1</td>\n",
       "      <td>0</td>\n",
       "      <td>0</td>\n",
       "      <td>0</td>\n",
       "      <td>1</td>\n",
       "    </tr>\n",
       "    <tr>\n",
       "      <th>1</th>\n",
       "      <td>92800</td>\n",
       "      <td>6877</td>\n",
       "      <td>122.0</td>\n",
       "      <td>11</td>\n",
       "      <td>0</td>\n",
       "      <td>0</td>\n",
       "      <td>0</td>\n",
       "      <td>0</td>\n",
       "      <td>1</td>\n",
       "      <td>0</td>\n",
       "      <td>1</td>\n",
       "      <td>0</td>\n",
       "      <td>0</td>\n",
       "      <td>0</td>\n",
       "      <td>1</td>\n",
       "    </tr>\n",
       "    <tr>\n",
       "      <th>2</th>\n",
       "      <td>149300</td>\n",
       "      <td>6900</td>\n",
       "      <td>160.0</td>\n",
       "      <td>11</td>\n",
       "      <td>0</td>\n",
       "      <td>0</td>\n",
       "      <td>0</td>\n",
       "      <td>0</td>\n",
       "      <td>1</td>\n",
       "      <td>0</td>\n",
       "      <td>1</td>\n",
       "      <td>0</td>\n",
       "      <td>0</td>\n",
       "      <td>0</td>\n",
       "      <td>1</td>\n",
       "    </tr>\n",
       "    <tr>\n",
       "      <th>3</th>\n",
       "      <td>96200</td>\n",
       "      <td>6950</td>\n",
       "      <td>110.0</td>\n",
       "      <td>11</td>\n",
       "      <td>0</td>\n",
       "      <td>0</td>\n",
       "      <td>0</td>\n",
       "      <td>0</td>\n",
       "      <td>1</td>\n",
       "      <td>0</td>\n",
       "      <td>1</td>\n",
       "      <td>0</td>\n",
       "      <td>0</td>\n",
       "      <td>0</td>\n",
       "      <td>1</td>\n",
       "    </tr>\n",
       "    <tr>\n",
       "      <th>4</th>\n",
       "      <td>156000</td>\n",
       "      <td>6950</td>\n",
       "      <td>156.0</td>\n",
       "      <td>11</td>\n",
       "      <td>0</td>\n",
       "      <td>0</td>\n",
       "      <td>0</td>\n",
       "      <td>0</td>\n",
       "      <td>1</td>\n",
       "      <td>0</td>\n",
       "      <td>1</td>\n",
       "      <td>0</td>\n",
       "      <td>0</td>\n",
       "      <td>0</td>\n",
       "      <td>1</td>\n",
       "    </tr>\n",
       "  </tbody>\n",
       "</table>\n",
       "</div>"
      ],
      "text/plain": [
       "   mileage  price     hp  Age  fuel_Diesel  fuel_Electric  \\\n",
       "0   235000   6800  116.0   11            1              0   \n",
       "1    92800   6877  122.0   11            0              0   \n",
       "2   149300   6900  160.0   11            0              0   \n",
       "3    96200   6950  110.0   11            0              0   \n",
       "4   156000   6950  156.0   11            0              0   \n",
       "\n",
       "   fuel_Electric/Diesel  fuel_Electric/Gasoline  fuel_Gasoline  fuel_LPG  \\\n",
       "0                     0                       0              0         0   \n",
       "1                     0                       0              1         0   \n",
       "2                     0                       0              1         0   \n",
       "3                     0                       0              1         0   \n",
       "4                     0                       0              1         0   \n",
       "\n",
       "   gear_Manual  gear_Semi-automatic  offerType_Employee's car  \\\n",
       "0            1                    0                         0   \n",
       "1            1                    0                         0   \n",
       "2            1                    0                         0   \n",
       "3            1                    0                         0   \n",
       "4            1                    0                         0   \n",
       "\n",
       "   offerType_Pre-registered  offerType_Used  \n",
       "0                         0               1  \n",
       "1                         0               1  \n",
       "2                         0               1  \n",
       "3                         0               1  \n",
       "4                         0               1  "
      ]
     },
     "execution_count": 467,
     "metadata": {},
     "output_type": "execute_result"
    }
   ],
   "source": [
    "df.head()"
   ]
  },
  {
   "cell_type": "code",
   "execution_count": 468,
   "id": "71ecf5ae",
   "metadata": {},
   "outputs": [],
   "source": [
    "X = df.drop('price',axis=1)"
   ]
  },
  {
   "cell_type": "code",
   "execution_count": 469,
   "id": "b395a1e7",
   "metadata": {},
   "outputs": [],
   "source": [
    "y=df.price"
   ]
  },
  {
   "cell_type": "code",
   "execution_count": 470,
   "id": "80a66922",
   "metadata": {},
   "outputs": [],
   "source": [
    "from sklearn.model_selection import train_test_split"
   ]
  },
  {
   "cell_type": "code",
   "execution_count": 471,
   "id": "031ad0fb",
   "metadata": {},
   "outputs": [],
   "source": [
    "X_train, X_test, y_train, y_test = train_test_split(X, y, test_size=0.4, random_state=2)"
   ]
  },
  {
   "cell_type": "code",
   "execution_count": 472,
   "id": "a741ad59",
   "metadata": {},
   "outputs": [],
   "source": [
    "from sklearn.linear_model import LinearRegression\n",
    "from sklearn.metrics import r2_score\n",
    "from sklearn.model_selection import cross_val_score"
   ]
  },
  {
   "cell_type": "code",
   "execution_count": 478,
   "id": "673fcbb6",
   "metadata": {},
   "outputs": [],
   "source": [
    "CV = []\n",
    "R2_train = []\n",
    "R2_test = []\n",
    "\n",
    "def car_pred_model(model,model_name):\n",
    "    # Training model\n",
    "    model.fit(X_train,y_train)\n",
    "            \n",
    "    # R2 score of train set\n",
    "    y_pred_train = model.predict(X_train)\n",
    "    R2_train_model = r2_score(y_train,y_pred_train)\n",
    "    R2_train.append(round(R2_train_model,2))\n",
    "    \n",
    "    # R2 score of test set\n",
    "    y_pred_test = model.predict(X_test)\n",
    "    R2_test_model = r2_score(y_test,y_pred_test)\n",
    "    R2_test.append(round(R2_test_model,2))\n",
    "    \n",
    "    # R2 mean of train set using Cross validation\n",
    "    cross_val = cross_val_score(model ,X_train ,y_train ,cv=5)\n",
    "    cv_mean = cross_val.mean()\n",
    "    CV.append(round(cv_mean,2))\n",
    "    \n",
    "    # Printing results\n",
    "    print(\"Train R2-score :\",round(R2_train_model,2))\n",
    "    print(\"Test R2-score :\",round(R2_test_model,2))\n",
    "    print(\"Train CV scores :\",cross_val)\n",
    "    print(\"Train CV mean :\",round(cv_mean,2))\n",
    "    \n",
    "    # Plotting Graphs \n",
    "    # Residual Plot of train data\n",
    "    fig, ax = plt.subplots(1,2,figsize = (10,4))\n",
    "    ax[0].set_title('Residual Plot of Train samples')\n",
    "    sns.distplot((y_train-y_pred_train),hist = False,ax = ax[0])\n",
    "    ax[0].set_xlabel('y_train - y_pred_train')\n",
    "    \n",
    "    # Y_test vs Y_train scatter plot\n",
    "    ax[1].set_title('y_test vs y_pred_test')\n",
    "    ax[1].scatter(x = y_test, y = y_pred_test)\n",
    "    ax[1].set_xlabel('y_test')\n",
    "    ax[1].set_ylabel('y_pred_test')\n",
    "    \n",
    "    plt.show()"
   ]
  },
  {
   "cell_type": "code",
   "execution_count": 479,
   "id": "505fa5c3",
   "metadata": {},
   "outputs": [
    {
     "name": "stdout",
     "output_type": "stream",
     "text": [
      "Train R2-score : 0.61\n",
      "Test R2-score : 0.75\n",
      "Train CV scores : [0.70614632 0.70811344 0.63318925 0.47134037 0.60496222]\n",
      "Train CV mean : 0.62\n"
     ]
    },
    {
     "name": "stderr",
     "output_type": "stream",
     "text": [
      "C:\\Python310\\lib\\site-packages\\seaborn\\distributions.py:2619: FutureWarning: `distplot` is a deprecated function and will be removed in a future version. Please adapt your code to use either `displot` (a figure-level function with similar flexibility) or `kdeplot` (an axes-level function for kernel density plots).\n",
      "  warnings.warn(msg, FutureWarning)\n"
     ]
    },
    {
     "data": {
      "image/png": "[encoded data removed]",
      "text/plain": [
       "<Figure size 720x288 with 2 Axes>"
      ]
     },
     "metadata": {
      "needs_background": "light"
     },
     "output_type": "display_data"
    }
   ],
   "source": [
    "from sklearn.linear_model import LinearRegression\n",
    "lr = LinearRegression()\n",
    "car_pred_model(lr,\"Linear_regressor.pkl\")"
   ]
  },
  {
   "cell_type": "code",
   "execution_count": 383,
   "id": "7b802619",
   "metadata": {},
   "outputs": [],
   "source": [
    "from sklearn.linear_model import LinearRegression"
   ]
  },
  {
   "cell_type": "code",
   "execution_count": 385,
   "id": "67b6842d",
   "metadata": {},
   "outputs": [],
   "source": [
    "from sklearn.pipeline import Pipeline\n",
    "from sklearn.preprocessing import StandardScaler"
   ]
  },
  {
   "cell_type": "code",
   "execution_count": 422,
   "id": "077547fc",
   "metadata": {},
   "outputs": [],
   "source": [
    "steps=[('scale',StandardScaler()),  ('polynomial', PolynomialFeatures(include_bias=False)),('model',LinearRegression())]"
   ]
  },
  {
   "cell_type": "code",
   "execution_count": 423,
   "id": "d3b707ac",
   "metadata": {},
   "outputs": [
    {
     "data": {
      "text/plain": [
       "Pipeline(steps=[('scale', StandardScaler()),\n",
       "                ('polynomial', PolynomialFeatures(include_bias=False)),\n",
       "                ('model', LinearRegression())])"
      ]
     },
     "execution_count": 423,
     "metadata": {},
     "output_type": "execute_result"
    }
   ],
   "source": [
    "pipe=Pipeline(steps)\n",
    "pipe"
   ]
  },
  {
   "cell_type": "code",
   "execution_count": 424,
   "id": "0a53a203",
   "metadata": {},
   "outputs": [
    {
     "data": {
      "text/plain": [
       "Pipeline(steps=[('scale', StandardScaler()),\n",
       "                ('polynomial', PolynomialFeatures(include_bias=False)),\n",
       "                ('model', LinearRegression())])"
      ]
     },
     "execution_count": 424,
     "metadata": {},
     "output_type": "execute_result"
    }
   ],
   "source": [
    "Z = X.astype(float)"
   ]
  },
  {
   "cell_type": "code",
   "execution_count": 481,
   "id": "3b886c68",
   "metadata": {},
   "outputs": [
    {
     "data": {
      "text/plain": [
       "mileage                     float64\n",
       "hp                          float64\n",
       "Age                         float64\n",
       "fuel_Diesel                 float64\n",
       "fuel_Electric               float64\n",
       "fuel_Electric/Diesel        float64\n",
       "fuel_Electric/Gasoline      float64\n",
       "fuel_Gasoline               float64\n",
       "fuel_LPG                    float64\n",
       "gear_Manual                 float64\n",
       "gear_Semi-automatic         float64\n",
       "offerType_Employee's car    float64\n",
       "offerType_Pre-registered    float64\n",
       "offerType_Used              float64\n",
       "dtype: object"
      ]
     },
     "execution_count": 481,
     "metadata": {},
     "output_type": "execute_result"
    }
   ],
   "source": [
    "Z.dtypes"
   ]
  },
  {
   "cell_type": "code",
   "execution_count": null,
   "id": "ac667fcb",
   "metadata": {},
   "outputs": [],
   "source": [
    "#split train and test\n",
    "Z_train, Z_test, y1_train, y1_test = train_test_split(Z, y, test_size=0.4, random_state=2)\n",
    "#fit model\n",
    "pipe.fit(Z_train,y1_train)"
   ]
  },
  {
   "cell_type": "code",
   "execution_count": 425,
   "id": "e0cb01a0",
   "metadata": {},
   "outputs": [
    {
     "data": {
      "text/plain": [
       "array([ 9500.81499481,  7243.72950745, 14396.20492935, 64826.3000946 ])"
      ]
     },
     "execution_count": 425,
     "metadata": {},
     "output_type": "execute_result"
    }
   ],
   "source": [
    "ypipe_train=pipe.predict(Z_train)\n",
    "ypipe_train[0:4]"
   ]
  },
  {
   "cell_type": "code",
   "execution_count": 426,
   "id": "b1833840",
   "metadata": {},
   "outputs": [
    {
     "name": "stdout",
     "output_type": "stream",
     "text": [
      "The R-square is:  0.7248156493230135\n"
     ]
    }
   ],
   "source": [
    "print('The R-square is: ', pipe.score(Z_train, y1_train))"
   ]
  },
  {
   "cell_type": "code",
   "execution_count": 427,
   "id": "6220d681",
   "metadata": {},
   "outputs": [
    {
     "data": {
      "text/plain": [
       "array([ 9246.13947296,  7818.723526  , 12019.78351593, 29361.37171936])"
      ]
     },
     "execution_count": 427,
     "metadata": {},
     "output_type": "execute_result"
    }
   ],
   "source": [
    "ypipe_test=pipe.predict(Z_test)\n",
    "ypipe_test[0:4]"
   ]
  },
  {
   "cell_type": "code",
   "execution_count": 428,
   "id": "278cd745",
   "metadata": {},
   "outputs": [
    {
     "data": {
      "text/plain": [
       "<matplotlib.collections.PathCollection at 0x29e437aac80>"
      ]
     },
     "execution_count": 428,
     "metadata": {},
     "output_type": "execute_result"
    },
    {
     "data": {
      "image/png": "[encoded data removed]",
      "text/plain": [
       "<Figure size 432x288 with 1 Axes>"
      ]
     },
     "metadata": {
      "needs_background": "light"
     },
     "output_type": "display_data"
    }
   ],
   "source": [
    "plt.scatter(y1_test,ypipe_test)"
   ]
  },
  {
   "cell_type": "code",
   "execution_count": 429,
   "id": "1ff4a05f",
   "metadata": {},
   "outputs": [
    {
     "name": "stdout",
     "output_type": "stream",
     "text": [
      "The R-square is:  0.8318965865614936\n"
     ]
    }
   ],
   "source": [
    "print('The R-square is: ', pipe.score(Z_test, y1_test))"
   ]
  },
  {
   "cell_type": "code",
   "execution_count": 480,
   "id": "773566b5",
   "metadata": {},
   "outputs": [
    {
     "data": {
      "image/png": "[encoded data removed]",
      "text/plain": [
       "<Figure size 360x360 with 1 Axes>"
      ]
     },
     "metadata": {
      "needs_background": "light"
     },
     "output_type": "display_data"
    }
   ],
   "source": [
    "#sns.displot((y1_train-ypipe_train),hist = False)\n",
    "sns.displot((y1_train-ypipe_train))\n",
    "plt.show()"
   ]
  },
  {
   "cell_type": "code",
   "execution_count": null,
   "id": "2ed1ae07",
   "metadata": {},
   "outputs": [],
   "source": []
  },
  {
   "cell_type": "code",
   "execution_count": null,
   "id": "20c629bf",
   "metadata": {},
   "outputs": [],
   "source": []
  },
  {
   "cell_type": "code",
   "execution_count": null,
   "id": "4b78e69a",
   "metadata": {},
   "outputs": [],
   "source": []
  }
 ],
 "metadata": {
  "kernelspec": {
   "display_name": "Python 3 (ipykernel)",
   "language": "python",
   "name": "python3"
  },
  "language_info": {
   "codemirror_mode": {
    "name": "ipython",
    "version": 3
   },
   "file_extension": ".py",
   "mimetype": "text/x-python",
   "name": "python",
   "nbconvert_exporter": "python",
   "pygments_lexer": "ipython3",
   "version": "3.10.1"
  }
 },
 "nbformat": 4,
 "nbformat_minor": 5
}
